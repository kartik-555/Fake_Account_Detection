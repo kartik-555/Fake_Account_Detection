{
  "cells": [
    {
      "cell_type": "code",
      "execution_count": 2,
      "metadata": {
        "execution": {
          "iopub.execute_input": "2023-02-16T10:51:24.903538Z",
          "iopub.status.busy": "2023-02-16T10:51:24.90285Z",
          "iopub.status.idle": "2023-02-16T10:51:24.918244Z",
          "shell.execute_reply": "2023-02-16T10:51:24.916634Z",
          "shell.execute_reply.started": "2023-02-16T10:51:24.903501Z"
        },
        "id": "V1H3GiSI3qIS",
        "trusted": true
      },
      "outputs": [],
      "source": [
        "import pandas as pd\n",
        "import numpy as np\n",
        "import matplotlib.pyplot as plt\n",
        "import seaborn as sns\n",
        "%matplotlib inline"
      ]
    },
    {
      "cell_type": "code",
      "execution_count": 3,
      "metadata": {
        "execution": {
          "iopub.execute_input": "2023-02-16T10:51:24.920802Z",
          "iopub.status.busy": "2023-02-16T10:51:24.920093Z",
          "iopub.status.idle": "2023-02-16T10:51:24.957908Z",
          "shell.execute_reply": "2023-02-16T10:51:24.956802Z",
          "shell.execute_reply.started": "2023-02-16T10:51:24.92075Z"
        },
        "id": "twMbUS183qIV",
        "trusted": true
      },
      "outputs": [
        {
          "name": "stdout",
          "output_type": "stream",
          "text": [
            "<class 'pandas.core.frame.DataFrame'>\n",
            "RangeIndex: 850 entries, 0 to 849\n",
            "Data columns (total 8 columns):\n",
            " #   Column            Non-Null Count  Dtype  \n",
            "---  ------            --------------  -----  \n",
            " 0   user_id           845 non-null    object \n",
            " 1   name              826 non-null    object \n",
            " 2   posts             847 non-null    object \n",
            " 3   followers         845 non-null    object \n",
            " 4   following         829 non-null    object \n",
            " 5   PVT               850 non-null    bool   \n",
            " 6   date_joined       847 non-null    object \n",
            " 7   former_usernames  343 non-null    float64\n",
            "dtypes: bool(1), float64(1), object(6)\n",
            "memory usage: 47.4+ KB\n"
          ]
        },
        {
          "data": {
            "text/html": [
              "<div>\n",
              "<style scoped>\n",
              "    .dataframe tbody tr th:only-of-type {\n",
              "        vertical-align: middle;\n",
              "    }\n",
              "\n",
              "    .dataframe tbody tr th {\n",
              "        vertical-align: top;\n",
              "    }\n",
              "\n",
              "    .dataframe thead th {\n",
              "        text-align: right;\n",
              "    }\n",
              "</style>\n",
              "<table border=\"1\" class=\"dataframe\">\n",
              "  <thead>\n",
              "    <tr style=\"text-align: right;\">\n",
              "      <th></th>\n",
              "      <th>user_id</th>\n",
              "      <th>name</th>\n",
              "      <th>posts</th>\n",
              "      <th>followers</th>\n",
              "      <th>following</th>\n",
              "      <th>PVT</th>\n",
              "      <th>date_joined</th>\n",
              "      <th>former_usernames</th>\n",
              "    </tr>\n",
              "  </thead>\n",
              "  <tbody>\n",
              "    <tr>\n",
              "      <th>0</th>\n",
              "      <td>abagael.taylor</td>\n",
              "      <td>Abagael💐</td>\n",
              "      <td>42</td>\n",
              "      <td>1,813</td>\n",
              "      <td>1,540</td>\n",
              "      <td>False</td>\n",
              "      <td>January 2019</td>\n",
              "      <td>1.00</td>\n",
              "    </tr>\n",
              "    <tr>\n",
              "      <th>1</th>\n",
              "      <td>abagael___</td>\n",
              "      <td>abby</td>\n",
              "      <td>1</td>\n",
              "      <td>4</td>\n",
              "      <td>4</td>\n",
              "      <td>False</td>\n",
              "      <td>May 2015</td>\n",
              "      <td>NaN</td>\n",
              "    </tr>\n",
              "    <tr>\n",
              "      <th>2</th>\n",
              "      <td>apbagael</td>\n",
              "      <td>Abagael</td>\n",
              "      <td>8</td>\n",
              "      <td>46</td>\n",
              "      <td>207</td>\n",
              "      <td>False</td>\n",
              "      <td>July 2024</td>\n",
              "      <td>1.00</td>\n",
              "    </tr>\n",
              "    <tr>\n",
              "      <th>3</th>\n",
              "      <td>knabagael</td>\n",
              "      <td>Abagael</td>\n",
              "      <td>20</td>\n",
              "      <td>87</td>\n",
              "      <td>408</td>\n",
              "      <td>False</td>\n",
              "      <td>October 2023</td>\n",
              "      <td>1.00</td>\n",
              "    </tr>\n",
              "    <tr>\n",
              "      <th>4</th>\n",
              "      <td>artagael</td>\n",
              "      <td>Abagael West</td>\n",
              "      <td>20</td>\n",
              "      <td>112</td>\n",
              "      <td>291</td>\n",
              "      <td>False</td>\n",
              "      <td>August 2017</td>\n",
              "      <td>NaN</td>\n",
              "    </tr>\n",
              "  </tbody>\n",
              "</table>\n",
              "</div>"
            ],
            "text/plain": [
              "          user_id          name posts followers following    PVT  \\\n",
              "0  abagael.taylor      Abagael💐    42     1,813     1,540  False   \n",
              "1      abagael___          abby     1         4         4  False   \n",
              "2        apbagael       Abagael     8        46       207  False   \n",
              "3       knabagael       Abagael    20        87       408  False   \n",
              "4        artagael  Abagael West    20       112       291  False   \n",
              "\n",
              "    date_joined  former_usernames  \n",
              "0  January 2019              1.00  \n",
              "1      May 2015               NaN  \n",
              "2     July 2024              1.00  \n",
              "3  October 2023              1.00  \n",
              "4   August 2017               NaN  "
            ]
          },
          "metadata": {},
          "output_type": "display_data"
        },
        {
          "data": {
            "text/plain": [
              "None"
            ]
          },
          "metadata": {},
          "output_type": "display_data"
        }
      ],
      "source": [
        "import warnings\n",
        "warnings.filterwarnings('ignore')\n",
        "\n",
        "pd.options.display.max_colwidth=300\n",
        "\n",
        "np.set_printoptions(suppress=True)\n",
        "pd.options.display.float_format = '{:.2f}'.format\n",
        "\n",
        "\n",
        "pd.set_option('display.max_columns', None)\n",
        "\n",
        "# Read data\n",
        "df_train = pd.read_csv(\"Data/instagram_data.csv\", index_col=0)\n",
        "\n",
        "df_train.reset_index(inplace=True)\n",
        "df_train.rename(columns={'index': 'No.'}, inplace=True)\n",
        "\n",
        "display(df_train.head(), df_train.info())\n"
      ]
    },
    {
      "cell_type": "code",
      "execution_count": 4,
      "metadata": {
        "execution": {
          "iopub.execute_input": "2023-02-16T10:51:24.960562Z",
          "iopub.status.busy": "2023-02-16T10:51:24.959681Z",
          "iopub.status.idle": "2023-02-16T10:51:24.977798Z",
          "shell.execute_reply": "2023-02-16T10:51:24.976974Z",
          "shell.execute_reply.started": "2023-02-16T10:51:24.960513Z"
        },
        "id": "YeKooCYy3qIZ",
        "trusted": true
      },
      "outputs": [
        {
          "data": {
            "text/html": [
              "<div>\n",
              "<style scoped>\n",
              "    .dataframe tbody tr th:only-of-type {\n",
              "        vertical-align: middle;\n",
              "    }\n",
              "\n",
              "    .dataframe tbody tr th {\n",
              "        vertical-align: top;\n",
              "    }\n",
              "\n",
              "    .dataframe thead th {\n",
              "        text-align: right;\n",
              "    }\n",
              "</style>\n",
              "<table border=\"1\" class=\"dataframe\">\n",
              "  <thead>\n",
              "    <tr style=\"text-align: right;\">\n",
              "      <th></th>\n",
              "      <th>user_id</th>\n",
              "      <th>name</th>\n",
              "      <th>posts</th>\n",
              "      <th>followers</th>\n",
              "      <th>following</th>\n",
              "      <th>PVT</th>\n",
              "      <th>date_joined</th>\n",
              "      <th>former_usernames</th>\n",
              "    </tr>\n",
              "  </thead>\n",
              "  <tbody>\n",
              "    <tr>\n",
              "      <th>0</th>\n",
              "      <td>abagael.taylor</td>\n",
              "      <td>Abagael💐</td>\n",
              "      <td>42</td>\n",
              "      <td>1,813</td>\n",
              "      <td>1,540</td>\n",
              "      <td>False</td>\n",
              "      <td>January 2019</td>\n",
              "      <td>1.00</td>\n",
              "    </tr>\n",
              "    <tr>\n",
              "      <th>1</th>\n",
              "      <td>abagael___</td>\n",
              "      <td>abby</td>\n",
              "      <td>1</td>\n",
              "      <td>4</td>\n",
              "      <td>4</td>\n",
              "      <td>False</td>\n",
              "      <td>May 2015</td>\n",
              "      <td>NaN</td>\n",
              "    </tr>\n",
              "    <tr>\n",
              "      <th>2</th>\n",
              "      <td>apbagael</td>\n",
              "      <td>Abagael</td>\n",
              "      <td>8</td>\n",
              "      <td>46</td>\n",
              "      <td>207</td>\n",
              "      <td>False</td>\n",
              "      <td>July 2024</td>\n",
              "      <td>1.00</td>\n",
              "    </tr>\n",
              "    <tr>\n",
              "      <th>3</th>\n",
              "      <td>knabagael</td>\n",
              "      <td>Abagael</td>\n",
              "      <td>20</td>\n",
              "      <td>87</td>\n",
              "      <td>408</td>\n",
              "      <td>False</td>\n",
              "      <td>October 2023</td>\n",
              "      <td>1.00</td>\n",
              "    </tr>\n",
              "    <tr>\n",
              "      <th>4</th>\n",
              "      <td>artagael</td>\n",
              "      <td>Abagael West</td>\n",
              "      <td>20</td>\n",
              "      <td>112</td>\n",
              "      <td>291</td>\n",
              "      <td>False</td>\n",
              "      <td>August 2017</td>\n",
              "      <td>NaN</td>\n",
              "    </tr>\n",
              "    <tr>\n",
              "      <th>...</th>\n",
              "      <td>...</td>\n",
              "      <td>...</td>\n",
              "      <td>...</td>\n",
              "      <td>...</td>\n",
              "      <td>...</td>\n",
              "      <td>...</td>\n",
              "      <td>...</td>\n",
              "      <td>...</td>\n",
              "    </tr>\n",
              "    <tr>\n",
              "      <th>845</th>\n",
              "      <td>juliaanalvarez</td>\n",
              "      <td>JULIÁN ALVAREZ🕷</td>\n",
              "      <td>502</td>\n",
              "      <td>16.9M</td>\n",
              "      <td>644</td>\n",
              "      <td>False</td>\n",
              "      <td>January 2014</td>\n",
              "      <td>NaN</td>\n",
              "    </tr>\n",
              "    <tr>\n",
              "      <th>846</th>\n",
              "      <td>danielaalvareztv</td>\n",
              "      <td>Daniela Alvarez</td>\n",
              "      <td>3,630</td>\n",
              "      <td>4.7M</td>\n",
              "      <td>4,670</td>\n",
              "      <td>False</td>\n",
              "      <td>November 2012</td>\n",
              "      <td>NaN</td>\n",
              "    </tr>\n",
              "    <tr>\n",
              "      <th>847</th>\n",
              "      <td>criseldalvarez</td>\n",
              "      <td>criselda alvarez</td>\n",
              "      <td>83</td>\n",
              "      <td>1.8M</td>\n",
              "      <td>1</td>\n",
              "      <td>False</td>\n",
              "      <td>March 2015</td>\n",
              "      <td>NaN</td>\n",
              "    </tr>\n",
              "    <tr>\n",
              "      <th>848</th>\n",
              "      <td>ealvarezfight</td>\n",
              "      <td>Eddie Alvarez</td>\n",
              "      <td>1,381</td>\n",
              "      <td>389K</td>\n",
              "      <td>1,947</td>\n",
              "      <td>False</td>\n",
              "      <td>May 2013</td>\n",
              "      <td>NaN</td>\n",
              "    </tr>\n",
              "    <tr>\n",
              "      <th>849</th>\n",
              "      <td>monicaalvarez03</td>\n",
              "      <td>MÓNICA ALVAREZ</td>\n",
              "      <td>623</td>\n",
              "      <td>436K</td>\n",
              "      <td>304</td>\n",
              "      <td>False</td>\n",
              "      <td>February 2013</td>\n",
              "      <td>NaN</td>\n",
              "    </tr>\n",
              "  </tbody>\n",
              "</table>\n",
              "<p>850 rows × 8 columns</p>\n",
              "</div>"
            ],
            "text/plain": [
              "              user_id              name  posts followers following    PVT  \\\n",
              "0      abagael.taylor          Abagael💐     42     1,813     1,540  False   \n",
              "1          abagael___              abby      1         4         4  False   \n",
              "2            apbagael           Abagael      8        46       207  False   \n",
              "3           knabagael           Abagael     20        87       408  False   \n",
              "4            artagael      Abagael West     20       112       291  False   \n",
              "..                ...               ...    ...       ...       ...    ...   \n",
              "845    juliaanalvarez   JULIÁN ALVAREZ🕷    502     16.9M       644  False   \n",
              "846  danielaalvareztv   Daniela Alvarez  3,630      4.7M     4,670  False   \n",
              "847    criseldalvarez  criselda alvarez     83      1.8M         1  False   \n",
              "848     ealvarezfight     Eddie Alvarez  1,381      389K     1,947  False   \n",
              "849   monicaalvarez03   MÓNICA ALVAREZ    623      436K       304  False   \n",
              "\n",
              "       date_joined  former_usernames  \n",
              "0     January 2019              1.00  \n",
              "1         May 2015               NaN  \n",
              "2        July 2024              1.00  \n",
              "3     October 2023              1.00  \n",
              "4      August 2017               NaN  \n",
              "..             ...               ...  \n",
              "845   January 2014               NaN  \n",
              "846  November 2012               NaN  \n",
              "847     March 2015               NaN  \n",
              "848       May 2013               NaN  \n",
              "849  February 2013               NaN  \n",
              "\n",
              "[850 rows x 8 columns]"
            ]
          },
          "execution_count": 4,
          "metadata": {},
          "output_type": "execute_result"
        }
      ],
      "source": [
        "# Dataset Description\n",
        "data_dict = pd.read_csv('Data/instagram_data.csv', index_col = False)\n",
        "data_dict"
      ]
    },
    {
      "cell_type": "code",
      "execution_count": 5,
      "metadata": {
        "execution": {
          "iopub.execute_input": "2023-02-16T10:51:24.980721Z",
          "iopub.status.busy": "2023-02-16T10:51:24.9799Z",
          "iopub.status.idle": "2023-02-16T10:51:24.989438Z",
          "shell.execute_reply": "2023-02-16T10:51:24.988126Z",
          "shell.execute_reply.started": "2023-02-16T10:51:24.980686Z"
        },
        "id": "aYyfCENs3qIZ",
        "trusted": true
      },
      "outputs": [
        {
          "data": {
            "text/plain": [
              "['user_id',\n",
              " 'name',\n",
              " 'posts',\n",
              " 'followers',\n",
              " 'following',\n",
              " 'PVT',\n",
              " 'date_joined',\n",
              " 'former_usernames']"
            ]
          },
          "execution_count": 5,
          "metadata": {},
          "output_type": "execute_result"
        }
      ],
      "source": [
        "num_cols = ['ratio_numlen_username','len_fullname','ratio_numlen_fullname',\n",
        "            'len_desc','num_posts','num_followers',\n",
        "              'num_following']\n",
        "cat_cols = [col for col in df_train.columns.values.tolist() if col not in num_cols]\n",
        "cat_cols"
      ]
    },
    {
      "cell_type": "code",
      "execution_count": 6,
      "metadata": {
        "execution": {
          "iopub.execute_input": "2023-02-16T10:51:24.991876Z",
          "iopub.status.busy": "2023-02-16T10:51:24.9914Z",
          "iopub.status.idle": "2023-02-16T10:51:25.035111Z",
          "shell.execute_reply": "2023-02-16T10:51:25.033577Z",
          "shell.execute_reply.started": "2023-02-16T10:51:24.991826Z"
        },
        "id": "nfx8mMpv3qIa",
        "trusted": true
      },
      "outputs": [
        {
          "ename": "KeyError",
          "evalue": "\"None of [Index(['ratio_numlen_username', 'len_fullname', 'ratio_numlen_fullname',\\n       'len_desc', 'num_posts', 'num_followers', 'num_following'],\\n      dtype='object')] are in the [columns]\"",
          "output_type": "error",
          "traceback": [
            "\u001b[0;31m---------------------------------------------------------------------------\u001b[0m",
            "\u001b[0;31mKeyError\u001b[0m                                  Traceback (most recent call last)",
            "Cell \u001b[0;32mIn[6], line 1\u001b[0m\n\u001b[0;32m----> 1\u001b[0m \u001b[43mdf_train\u001b[49m\u001b[43m[\u001b[49m\u001b[43mnum_cols\u001b[49m\u001b[43m]\u001b[49m\u001b[38;5;241m.\u001b[39mdescribe()\n",
            "File \u001b[0;32m~/Desktop/fake_accounts/env/lib/python3.12/site-packages/pandas/core/frame.py:4108\u001b[0m, in \u001b[0;36mDataFrame.__getitem__\u001b[0;34m(self, key)\u001b[0m\n\u001b[1;32m   4106\u001b[0m     \u001b[38;5;28;01mif\u001b[39;00m is_iterator(key):\n\u001b[1;32m   4107\u001b[0m         key \u001b[38;5;241m=\u001b[39m \u001b[38;5;28mlist\u001b[39m(key)\n\u001b[0;32m-> 4108\u001b[0m     indexer \u001b[38;5;241m=\u001b[39m \u001b[38;5;28;43mself\u001b[39;49m\u001b[38;5;241;43m.\u001b[39;49m\u001b[43mcolumns\u001b[49m\u001b[38;5;241;43m.\u001b[39;49m\u001b[43m_get_indexer_strict\u001b[49m\u001b[43m(\u001b[49m\u001b[43mkey\u001b[49m\u001b[43m,\u001b[49m\u001b[43m \u001b[49m\u001b[38;5;124;43m\"\u001b[39;49m\u001b[38;5;124;43mcolumns\u001b[39;49m\u001b[38;5;124;43m\"\u001b[39;49m\u001b[43m)\u001b[49m[\u001b[38;5;241m1\u001b[39m]\n\u001b[1;32m   4110\u001b[0m \u001b[38;5;66;03m# take() does not accept boolean indexers\u001b[39;00m\n\u001b[1;32m   4111\u001b[0m \u001b[38;5;28;01mif\u001b[39;00m \u001b[38;5;28mgetattr\u001b[39m(indexer, \u001b[38;5;124m\"\u001b[39m\u001b[38;5;124mdtype\u001b[39m\u001b[38;5;124m\"\u001b[39m, \u001b[38;5;28;01mNone\u001b[39;00m) \u001b[38;5;241m==\u001b[39m \u001b[38;5;28mbool\u001b[39m:\n",
            "File \u001b[0;32m~/Desktop/fake_accounts/env/lib/python3.12/site-packages/pandas/core/indexes/base.py:6200\u001b[0m, in \u001b[0;36mIndex._get_indexer_strict\u001b[0;34m(self, key, axis_name)\u001b[0m\n\u001b[1;32m   6197\u001b[0m \u001b[38;5;28;01melse\u001b[39;00m:\n\u001b[1;32m   6198\u001b[0m     keyarr, indexer, new_indexer \u001b[38;5;241m=\u001b[39m \u001b[38;5;28mself\u001b[39m\u001b[38;5;241m.\u001b[39m_reindex_non_unique(keyarr)\n\u001b[0;32m-> 6200\u001b[0m \u001b[38;5;28;43mself\u001b[39;49m\u001b[38;5;241;43m.\u001b[39;49m\u001b[43m_raise_if_missing\u001b[49m\u001b[43m(\u001b[49m\u001b[43mkeyarr\u001b[49m\u001b[43m,\u001b[49m\u001b[43m \u001b[49m\u001b[43mindexer\u001b[49m\u001b[43m,\u001b[49m\u001b[43m \u001b[49m\u001b[43maxis_name\u001b[49m\u001b[43m)\u001b[49m\n\u001b[1;32m   6202\u001b[0m keyarr \u001b[38;5;241m=\u001b[39m \u001b[38;5;28mself\u001b[39m\u001b[38;5;241m.\u001b[39mtake(indexer)\n\u001b[1;32m   6203\u001b[0m \u001b[38;5;28;01mif\u001b[39;00m \u001b[38;5;28misinstance\u001b[39m(key, Index):\n\u001b[1;32m   6204\u001b[0m     \u001b[38;5;66;03m# GH 42790 - Preserve name from an Index\u001b[39;00m\n",
            "File \u001b[0;32m~/Desktop/fake_accounts/env/lib/python3.12/site-packages/pandas/core/indexes/base.py:6249\u001b[0m, in \u001b[0;36mIndex._raise_if_missing\u001b[0;34m(self, key, indexer, axis_name)\u001b[0m\n\u001b[1;32m   6247\u001b[0m \u001b[38;5;28;01mif\u001b[39;00m nmissing:\n\u001b[1;32m   6248\u001b[0m     \u001b[38;5;28;01mif\u001b[39;00m nmissing \u001b[38;5;241m==\u001b[39m \u001b[38;5;28mlen\u001b[39m(indexer):\n\u001b[0;32m-> 6249\u001b[0m         \u001b[38;5;28;01mraise\u001b[39;00m \u001b[38;5;167;01mKeyError\u001b[39;00m(\u001b[38;5;124mf\u001b[39m\u001b[38;5;124m\"\u001b[39m\u001b[38;5;124mNone of [\u001b[39m\u001b[38;5;132;01m{\u001b[39;00mkey\u001b[38;5;132;01m}\u001b[39;00m\u001b[38;5;124m] are in the [\u001b[39m\u001b[38;5;132;01m{\u001b[39;00maxis_name\u001b[38;5;132;01m}\u001b[39;00m\u001b[38;5;124m]\u001b[39m\u001b[38;5;124m\"\u001b[39m)\n\u001b[1;32m   6251\u001b[0m     not_found \u001b[38;5;241m=\u001b[39m \u001b[38;5;28mlist\u001b[39m(ensure_index(key)[missing_mask\u001b[38;5;241m.\u001b[39mnonzero()[\u001b[38;5;241m0\u001b[39m]]\u001b[38;5;241m.\u001b[39munique())\n\u001b[1;32m   6252\u001b[0m     \u001b[38;5;28;01mraise\u001b[39;00m \u001b[38;5;167;01mKeyError\u001b[39;00m(\u001b[38;5;124mf\u001b[39m\u001b[38;5;124m\"\u001b[39m\u001b[38;5;132;01m{\u001b[39;00mnot_found\u001b[38;5;132;01m}\u001b[39;00m\u001b[38;5;124m not in index\u001b[39m\u001b[38;5;124m\"\u001b[39m)\n",
            "\u001b[0;31mKeyError\u001b[0m: \"None of [Index(['ratio_numlen_username', 'len_fullname', 'ratio_numlen_fullname',\\n       'len_desc', 'num_posts', 'num_followers', 'num_following'],\\n      dtype='object')] are in the [columns]\""
          ]
        }
      ],
      "source": [
        "df_train[num_cols].describe()"
      ]
    },
    {
      "cell_type": "code",
      "execution_count": null,
      "metadata": {
        "execution": {
          "iopub.execute_input": "2023-02-16T10:51:25.037071Z",
          "iopub.status.busy": "2023-02-16T10:51:25.036725Z",
          "iopub.status.idle": "2023-02-16T10:51:25.205804Z",
          "shell.execute_reply": "2023-02-16T10:51:25.203754Z",
          "shell.execute_reply.started": "2023-02-16T10:51:25.03704Z"
        },
        "id": "3hFCHm3L3qIb",
        "trusted": true
      },
      "outputs": [],
      "source": [
        "plt.figure(figsize=(15,6))\n",
        "fake_share = df_train[\"fake\"].value_counts()\n",
        "mylabel=[\"Not fake(0)\",\"fake(1)\"]\n",
        "colors = ['#99ff99','#ff9999']\n",
        "plt.pie(fake_share,\n",
        "        labels=mylabel,autopct=\"%1.1f%%\",colors=colors,\n",
        "        textprops={'fontsize': 16})\n",
        "plt.axis(\"equal\");"
      ]
    },
    {
      "cell_type": "code",
      "execution_count": null,
      "metadata": {
        "execution": {
          "iopub.execute_input": "2023-02-16T10:51:25.209177Z",
          "iopub.status.busy": "2023-02-16T10:51:25.20849Z",
          "iopub.status.idle": "2023-02-16T10:51:25.23593Z",
          "shell.execute_reply": "2023-02-16T10:51:25.234562Z",
          "shell.execute_reply.started": "2023-02-16T10:51:25.209137Z"
        },
        "id": "dnq1SEM_3qIc",
        "trusted": true
      },
      "outputs": [],
      "source": [
        "percent_missing = df_train.isnull().sum() * 100 / len(df_train)\n",
        "missing_value_df = pd.DataFrame({'percent_missing (%)': percent_missing})\n",
        "missing_value_df.sort_values('percent_missing (%)', ascending=False)\n"
      ]
    },
    {
      "cell_type": "code",
      "execution_count": null,
      "metadata": {
        "execution": {
          "iopub.execute_input": "2023-02-16T10:51:25.238345Z",
          "iopub.status.busy": "2023-02-16T10:51:25.237805Z",
          "iopub.status.idle": "2023-02-16T10:51:25.274116Z",
          "shell.execute_reply": "2023-02-16T10:51:25.272358Z",
          "shell.execute_reply.started": "2023-02-16T10:51:25.238305Z"
        },
        "id": "rm5ro1Gp3qIe",
        "trusted": true
      },
      "outputs": [],
      "source": [
        "corr = df_train[num_cols].corr()\n",
        "corr.style.background_gradient(cmap='coolwarm')"
      ]
    },
    {
      "cell_type": "code",
      "execution_count": null,
      "metadata": {
        "execution": {
          "iopub.execute_input": "2023-02-16T10:51:25.281227Z",
          "iopub.status.busy": "2023-02-16T10:51:25.280802Z",
          "iopub.status.idle": "2023-02-16T10:51:34.323558Z",
          "shell.execute_reply": "2023-02-16T10:51:34.322352Z",
          "shell.execute_reply.started": "2023-02-16T10:51:25.281191Z"
        },
        "id": "TlzxjuTb3qIh",
        "trusted": true
      },
      "outputs": [],
      "source": [
        "pp_cols = []\n",
        "pp_cols = num_cols + ['fake']\n",
        "ax=sns.pairplot(df_train[pp_cols], hue=\"fake\",corner=True);\n",
        "plt.style.use('fivethirtyeight')\n",
        "ax.fig.suptitle(\"Pair Plot of Characteristics\")"
      ]
    },
    {
      "cell_type": "code",
      "execution_count": null,
      "metadata": {
        "execution": {
          "iopub.execute_input": "2023-02-16T10:51:34.325675Z",
          "iopub.status.busy": "2023-02-16T10:51:34.325157Z",
          "iopub.status.idle": "2023-02-16T10:51:34.349337Z",
          "shell.execute_reply": "2023-02-16T10:51:34.348037Z",
          "shell.execute_reply.started": "2023-02-16T10:51:34.325631Z"
        },
        "id": "4aUAJHJG3qIj",
        "trusted": true
      },
      "outputs": [],
      "source": [
        "display(df_train.loc[:, cat_cols].head())\n",
        "print('----------------------')\n",
        "\n",
        "for col in cat_cols:\n",
        "    unique_values = df_train.loc[:, col].unique()\n",
        "    print(\"\\nColumn name: {}\\nUnique values: {}\".format(col, unique_values))"
      ]
    },
    {
      "cell_type": "code",
      "execution_count": null,
      "metadata": {
        "execution": {
          "iopub.execute_input": "2023-02-16T10:51:34.351563Z",
          "iopub.status.busy": "2023-02-16T10:51:34.350986Z",
          "iopub.status.idle": "2023-02-16T10:51:34.38565Z",
          "shell.execute_reply": "2023-02-16T10:51:34.384315Z",
          "shell.execute_reply.started": "2023-02-16T10:51:34.351519Z"
        },
        "id": "39Ix9poi3qIj",
        "trusted": true
      },
      "outputs": [],
      "source": [
        "def label_encoding(df):\n",
        "    dict_label_encoding = {'Yes': 1, 'No': 0}\n",
        "    df.loc[:, 'profile_pic'] = df.loc[:, 'profile_pic'].replace(dict_label_encoding)\n",
        "    df.loc[:, 'extern_url'] = df.loc[:, 'extern_url'].replace(dict_label_encoding)\n",
        "    df.loc[:, 'private'] = df.loc[:, 'private'].replace(dict_label_encoding)\n",
        "\n",
        "    onehot = pdp.OneHotEncode([\"sim_name_username\"], drop_first=False)\n",
        "    df = onehot.fit_transform(df)\n",
        "    return df\n",
        "\n",
        "df_train = label_encoding(df_train)\n",
        "df_train.head()"
      ]
    },
    {
      "cell_type": "code",
      "execution_count": null,
      "metadata": {
        "execution": {
          "iopub.execute_input": "2023-02-16T10:51:34.38931Z",
          "iopub.status.busy": "2023-02-16T10:51:34.388524Z",
          "iopub.status.idle": "2023-02-16T10:51:35.01325Z",
          "shell.execute_reply": "2023-02-16T10:51:35.011815Z",
          "shell.execute_reply.started": "2023-02-16T10:51:34.389243Z"
        },
        "id": "Ygw9FIvN3qIk",
        "trusted": true
      },
      "outputs": [],
      "source": [
        "from sklearn.linear_model import LogisticRegression\n",
        "features_train = df_train.iloc[:, 1:]\n",
        "target_train = df_train.loc[:, 'fake']\n",
        "\n",
        "model_log = LogisticRegression(solver='lbfgs', max_iter=1e4, C=1e42, random_state=42)\n",
        "\n",
        "model_log.fit(features_train, target_train)\n",
        "\n",
        "from sklearn.preprocessing import StandardScaler\n",
        "\n",
        "scaler = StandardScaler()\n",
        "features_train_scaled = scaler.fit_transform(features_train)\n",
        "\n",
        "model_reg = LogisticRegression(solver='lbfgs', max_iter=1e4, C=0.5, random_state=42)\n",
        "\n",
        "model_reg.fit(features_train_scaled, target_train)"
      ]
    }
  ],
  "metadata": {
    "colab": {
      "name": "Fake Social Media Account Detection ",
      "provenance": []
    },
    "kernelspec": {
      "display_name": "env",
      "language": "python",
      "name": "python3"
    },
    "language_info": {
      "codemirror_mode": {
        "name": "ipython",
        "version": 3
      },
      "file_extension": ".py",
      "mimetype": "text/x-python",
      "name": "python",
      "nbconvert_exporter": "python",
      "pygments_lexer": "ipython3",
      "version": "3.12.3"
    }
  },
  "nbformat": 4,
  "nbformat_minor": 0
}
